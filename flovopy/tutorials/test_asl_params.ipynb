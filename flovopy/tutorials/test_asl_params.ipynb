{
 "cells": [
  {
   "cell_type": "code",
   "execution_count": null,
   "id": "4db28c81",
   "metadata": {},
   "outputs": [],
   "source": [
    "# --- Imports (cell 1) ---\n",
    "from dataclasses import dataclass\n",
    "from pathlib import Path\n",
    "from typing import Dict, Any, List, Tuple, Optional\n",
    "\n",
    "import pandas as pd\n",
    "\n",
    "from flovopy.asl.wrappers import run_single_event, find_event_files"
   ]
  },
  {
   "cell_type": "code",
   "execution_count": null,
   "id": "61b2b88e",
   "metadata": {},
   "outputs": [],
   "source": [
    "# --- Lightweight config object expected by run_single_event() (cell 2) ---\n",
    "@dataclass\n",
    "class LocalConfig:\n",
    "    grid_kind: str = \"regular\"     # 'regular' or 'streams'\n",
    "    wave_kind: str = \"surface\"     # 'surface' or 'body'\n",
    "    dist_mode: str = \"3d\"          # '2d' or '3d'\n",
    "    speed: float = 1.5             # km/s\n",
    "    Q: int = 100\n",
    "    misfit_engine: str = \"l2\"      # e.g. 'l2', 'huber'\n",
    "    label: str = \"nb_run\"\n",
    "\n",
    "    def tag(self) -> str:\n",
    "        return f\"{self.label}__G_{self.grid_kind}__W_{self.wave_kind}__D_{self.dist_mode}__V_{self.speed:g}__Q_{self.Q}__M_{self.misfit_engine}\""
   ]
  },
  {
   "cell_type": "code",
   "execution_count": null,
   "id": "6e77d11e",
   "metadata": {},
   "outputs": [],
   "source": [
    "# --- User-tunable paths & knobs (cell 3) ---\n",
    "\n",
    "# Base project directories\n",
    "PROJECTDIR = \"/Users/GlennThompson/Dropbox/BRIEFCASE/SSADenver\"\n",
    "LOCALPROJECTDIR = \"/Users/GlennThompson/work/PROJECTS/SSADenver_local\"\n",
    "\n",
    "# I/O\n",
    "INPUT_DIR = f\"{PROJECTDIR}/ASL_inputs/biggest_pdc_events\"\n",
    "OUTPUT_DIR = f\"{LOCALPROJECTDIR}/asl_notebooks\"\n",
    "INVENTORY_XML = f\"{PROJECTDIR}/MV.xml\"\n",
    "\n",
    "# Grid/data options\n",
    "GRID_KIND = \"streams\"   # Montserrat: stream-based NodeGrid\n",
    "CHANNELS_DIR = f\"{PROJECTDIR}/channel_finder/channels_csv\"\n",
    "CHANNELS_STEP_M = 100.0\n",
    "CHANNELS_DEM_TIF = f\"{PROJECTDIR}/channel_finder/02_dem_flipped_horizontal.tif\"\n",
    "REGULAR_GRID_DEM = None   # not used here\n",
    "\n",
    "# ASL parameters\n",
    "PEAKF = 8.0\n",
    "METRIC = \"VT\"\n",
    "WINDOW_SECONDS = 5\n",
    "NODE_SPACING_M = 50\n",
    "MIN_STATIONS = 5\n",
    "REFINE_SECTOR = False   # enable triangular dome-to-sea refinement\n",
    "\n",
    "# Physics / attenuation\n",
    "WAVE_KIND = \"surface\"   # surface waves\n",
    "DIST_MODE = \"3d\"        # include elevation\n",
    "SPEED = 1.5             # km/s\n",
    "Q = 100\n",
    "MISFIT_ENGINE = \"l2\"\n",
    "\n",
    "# Basemap / region\n",
    "DEM_TIF_FOR_BMAP = CHANNELS_DEM_TIF\n",
    "REGION = (-62.255, -62.135, 16.66, 16.84)  # Montserrat default\n",
    "\n",
    "# Limits\n",
    "MAX_EVENTS: Optional[int] = 1  # cap number of events\n",
    "GLOBAL_CACHE: Optional[str] = f\"{LOCALPROJECTDIR}/asl_global_cache\""
   ]
  },
  {
   "cell_type": "code",
   "execution_count": null,
   "id": "77fe2139",
   "metadata": {},
   "outputs": [],
   "source": [
    "# --- Build the config object (cell 4) ---\n",
    "cfg = LocalConfig(\n",
    "    grid_kind=GRID_KIND,\n",
    "    wave_kind=WAVE_KIND,\n",
    "    dist_mode=DIST_MODE,\n",
    "    speed=SPEED,\n",
    "    Q=Q,\n",
    "    misfit_engine=MISFIT_ENGINE,\n",
    "    label=\"notebook_run\",\n",
    ")\n",
    "cfg.tag()"
   ]
  },
  {
   "cell_type": "code",
   "execution_count": null,
   "id": "32ebbf74",
   "metadata": {},
   "outputs": [],
   "source": [
    "# --- Discover event files (cell 5) ---\n",
    "input_dir = Path(INPUT_DIR)\n",
    "#event_files = list(find_event_files(str(input_dir)))\n",
    "event_files = list(find_event_files(input_dir))\n",
    "print(f\"Found {len(event_files)} event files.\")\n",
    "if MAX_EVENTS is not None:\n",
    "    event_files = event_files[:MAX_EVENTS]\n",
    "    print(f\"Limiting to {len(event_files)} files.\")\n",
    "#event_files[:5]\n",
    "for f in event_files:\n",
    "    print(f)"
   ]
  },
  {
   "cell_type": "code",
   "execution_count": null,
   "id": "987138e9",
   "metadata": {},
   "outputs": [],
   "source": [
    "# --- Run ASL per event (cell 6) ---\n",
    "summaries: List[Dict[str, Any]] = []\n",
    "\n",
    "for i, ev in enumerate(event_files, 1):\n",
    "    print(f\"[{i}/{len(event_files)}] {ev}\")\n",
    "    result = run_single_event(\n",
    "        cfg,\n",
    "        mseed_file=str(ev),\n",
    "        inventory_xml=str(INVENTORY_XML),\n",
    "        output_base=str(OUTPUT_DIR),\n",
    "        node_spacing_m=NODE_SPACING_M,\n",
    "        metric=METRIC,\n",
    "        window_seconds=WINDOW_SECONDS,\n",
    "        peakf=PEAKF,\n",
    "        channels_dir=CHANNELS_DIR,\n",
    "        channels_step_m=CHANNELS_STEP_M,\n",
    "        channels_dem_tif=CHANNELS_DEM_TIF,\n",
    "        regular_grid_dem=REGULAR_GRID_DEM,\n",
    "        dem_tif_for_bmap=DEM_TIF_FOR_BMAP,\n",
    "        simple_basemap=True,\n",
    "        refine_sector=REFINE_SECTOR,\n",
    "        region=REGION,\n",
    "        MIN_STATIONS=MIN_STATIONS,\n",
    "        GLOBAL_CACHE=GLOBAL_CACHE,\n",
    "    )\n",
    "    summaries.append(result)"
   ]
  },
  {
   "cell_type": "code",
   "execution_count": null,
   "id": "3b5ee170",
   "metadata": {},
   "outputs": [],
   "source": [
    "# --- Summarize results (cell 7) ---\n",
    "df = pd.DataFrame(summaries)\n",
    "display(df)\n",
    "\n",
    "summary_csv = Path(OUTPUT_DIR) / f\"{cfg.tag()}__summary.csv\"\n",
    "df.to_csv(summary_csv, index=False)\n",
    "print(f\"Summary saved to: {summary_csv}\")\n",
    "\n",
    "if not df.empty:\n",
    "    n_ok = int((~df.get(\"error\").notna()).sum()) if \"error\" in df.columns else len(df)\n",
    "    print(f\"Success: {n_ok}/{len(df)}\")"
   ]
  }
 ],
 "metadata": {
  "kernelspec": {
   "display_name": "flovopy_plus",
   "language": "python",
   "name": "python3"
  },
  "language_info": {
   "codemirror_mode": {
    "name": "ipython",
    "version": 3
   },
   "file_extension": ".py",
   "mimetype": "text/x-python",
   "name": "python",
   "nbconvert_exporter": "python",
   "pygments_lexer": "ipython3",
   "version": "3.12.11"
  }
 },
 "nbformat": 4,
 "nbformat_minor": 5
}
