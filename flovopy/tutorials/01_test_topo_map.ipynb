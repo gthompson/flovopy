{
 "cells": [
  {
   "cell_type": "markdown",
   "id": "03da7f8f",
   "metadata": {},
   "source": [
    "# Test topo_map\n",
    "This notebook is used to explore the topo_map() function in flovopy.asl.map\n",
    "\n",
    "First, we import the modules we need, and set up some global variables we will need"
   ]
  },
  {
   "cell_type": "code",
   "execution_count": null,
   "id": "b1eca840",
   "metadata": {},
   "outputs": [],
   "source": [
    "# --- Imports & paths ---\n",
    "import os\n",
    "from pathlib import Path\n",
    "import itertools\n",
    "from datetime import datetime\n",
    "\n",
    "import numpy as np\n",
    "from obspy import read_inventory, UTCDateTime\n",
    "\n",
    "from flovopy.asl.map import topo_map  # your function\n",
    "\n",
    "\n",
    "PROJECTDIR = \"/Users/GlennThompson/Dropbox/BRIEFCASE/SSADenver\"\n",
    "LOCALPROJECTDIR = \"/Users/GlennThompson/work/PROJECTS/SSADenver_local\"\n",
    "OUTPUT_DIR = f\"{LOCALPROJECTDIR}/asl_notebooks\"\n",
    "INVENTORY_XML = f\"{PROJECTDIR}/MV.xml\"\n",
    "#DEM_TIF_FOR_BMAP = f\"{PROJECTDIR}/channel_finder/02_dem_flipped_horizontal.tif\"\n",
    "DEM_TIF_FOR_BMAP = Path(\"/Users/glennthompson/Dropbox/PROFESSIONAL/DATA/wadgeDEMs/auto_crs_fit_v2/wgs84_s0.4_3_clean.tif\")\n",
    "DEM_DEFAULT = Path(PROJECTDIR) / \"wgs84_s0.4_3_clean_shifted.tif\"\n",
    "\n",
    "# Montserrat default region (lon_min, lon_max, lat_min, lat_max)\n",
    "from flovopy.core.mvo import REGION_DEFAULT, dome_location\n",
    "print(REGION_DEFAULT)\n",
    "print(dome_location)\n",
    "\n",
    "# Output folder\n",
    "RUN_TAG = UTCDateTime().strftime(\"topo_map_test_%Y%m%dT%H%M%S\")\n",
    "OUTDIR = Path(OUTPUT_DIR) / RUN_TAG\n",
    "OUTDIR.mkdir(parents=True, exist_ok=True)\n",
    "\n",
    "# Load inventory\n",
    "INV = read_inventory(INVENTORY_XML)\n",
    "\n",
    "# Show help for the topo_map() function\n",
    "help(topo_map)"
   ]
  },
  {
   "cell_type": "markdown",
   "id": "84c76634",
   "metadata": {},
   "source": [
    "# 2. Simple topo map of Montserrat\n",
    "\n",
    "## 2.1 Coastline map"
   ]
  },
  {
   "cell_type": "code",
   "execution_count": null,
   "id": "a2000f59",
   "metadata": {},
   "outputs": [],
   "source": [
    "fig=topo_map(\n",
    "    show=True,\n",
    "    region=REGION_DEFAULT,\n",
    "    title=\"Coastline map of Montserrat with PyGMT Earth Relief 01s data\",\n",
    "    add_topography=False,\n",
    ")"
   ]
  },
  {
   "cell_type": "markdown",
   "id": "3e19799e",
   "metadata": {},
   "source": [
    "## 2.2 Coastline with stations"
   ]
  },
  {
   "cell_type": "code",
   "execution_count": null,
   "id": "6d9e861c",
   "metadata": {},
   "outputs": [],
   "source": [
    "fig = topo_map(\n",
    "    show=True,\n",
    "    region=REGION_DEFAULT,\n",
    "    title=\"Coastline map of Montserrat with PyGMT Earth Relief 01s data and stations\",\n",
    "    add_topography=False,\n",
    "    inv = INV,\n",
    ")"
   ]
  },
  {
   "cell_type": "markdown",
   "id": "683a4c67",
   "metadata": {},
   "source": [
    "## 2.3 Add contours & dome location\n",
    "We defined the dome location before"
   ]
  },
  {
   "cell_type": "code",
   "execution_count": null,
   "id": "a8b3003c",
   "metadata": {},
   "outputs": [],
   "source": [
    "print(dome_location)\n",
    "fig = topo_map(\n",
    "    show=True,\n",
    "    region=REGION_DEFAULT,\n",
    "    title=\"Contour map of Montserrat with PyGMT data and stations and dome\",\n",
    "    add_topography=False,\n",
    "    level_interval=100,\n",
    "    inv = INV,\n",
    "    dome_location=dome_location,\n",
    ")"
   ]
  },
  {
   "cell_type": "markdown",
   "id": "baf2ef00",
   "metadata": {},
   "source": [
    "## 2.4 Add topography & station labels & colorbar"
   ]
  },
  {
   "cell_type": "code",
   "execution_count": null,
   "id": "b331722c",
   "metadata": {},
   "outputs": [],
   "source": [
    "fig = topo_map(\n",
    "    show=True,\n",
    "    region=REGION_DEFAULT,\n",
    "    title=\"Map of Montserrat topography with stations, labels, dome, colorbar\",\n",
    "    add_topography=True,\n",
    "    level_interval=100,\n",
    "    inv = INV,\n",
    "    dome_location=dome_location,\n",
    "    add_colorbar=True,\n",
    "    add_labels=True,\n",
    ")"
   ]
  },
  {
   "cell_type": "markdown",
   "id": "91e9a31f",
   "metadata": {},
   "source": [
    "## 2.5 Simplify!\n",
    "That is a busy map! Let's use a grayscale instead, and remove contours"
   ]
  },
  {
   "cell_type": "code",
   "execution_count": null,
   "id": "a652291b",
   "metadata": {},
   "outputs": [],
   "source": [
    "fig = topo_map(\n",
    "    show=True,\n",
    "    region=REGION_DEFAULT,\n",
    "    title=\"Grayscale map of Montserrat topography with stations, labels, dome\",\n",
    "    add_topography=True,\n",
    "    inv = INV,\n",
    "    dome_location=dome_location,\n",
    "    add_labels=True,\n",
    "    cmap='gray',\n",
    ")"
   ]
  },
  {
   "cell_type": "markdown",
   "id": "ebc25af2",
   "metadata": {},
   "source": [
    "## 2.6 Use a custom DEM\n",
    "Let's use a GeoTIFF of a 1999 Montserrat DEM"
   ]
  },
  {
   "cell_type": "code",
   "execution_count": null,
   "id": "0d52f452",
   "metadata": {},
   "outputs": [],
   "source": [
    "fig = topo_map(\n",
    "    show=True,\n",
    "    region=REGION_DEFAULT,\n",
    "    title=\"Grayscale map of Montserrat topography with stations, labels, dome\",\n",
    "    add_topography=True,\n",
    "    inv = INV,\n",
    "    dome_location=dome_location,\n",
    "    add_labels=True,\n",
    "    cmap='gray',\n",
    "    dem_tif=DEM_DEFAULT,\n",
    ")"
   ]
  },
  {
   "cell_type": "markdown",
   "id": "3a053dad",
   "metadata": {},
   "source": [
    "## 2.7 Saving a map plot\n",
    "To save a map, use the outfile parameter. Just pass an outfile= argument"
   ]
  },
  {
   "cell_type": "code",
   "execution_count": null,
   "id": "262965bd",
   "metadata": {},
   "outputs": [],
   "source": [
    "fig = topo_map(\n",
    "    region=REGION_DEFAULT,\n",
    "    title=\"Grayscale map of Montserrat topography with stations, labels, dome\",\n",
    "    add_topography=True,\n",
    "    inv = INV,\n",
    "    dome_location=dome_location,\n",
    "    add_labels=True,\n",
    "    cmap='gray',\n",
    "    dem_tif=DEM_DEFAULT,\n",
    "    outfile=str(DEM_DEFAULT).replace('.tif', \"_topo_map.png\")\n",
    ")"
   ]
  },
  {
   "cell_type": "markdown",
   "id": "8c86b2db",
   "metadata": {},
   "source": [
    "# 3. Shifting a DEM\n",
    "There seem to be some alignment problems between PyGMT coastline data, EarthRelief 01s data, Montserrat DEMs, and Montserrat station coordinates.\n",
    "This code can be used to shift a DEM and save it under a new name."
   ]
  },
  {
   "cell_type": "code",
   "execution_count": null,
   "id": "d4b94083",
   "metadata": {},
   "outputs": [],
   "source": [
    "# Example: shift 100 m north (in UTM)\n",
    "#DEM_SHIFTED = Path(\"/Users/glennthompson/Dropbox/PROFESSIONAL/DATA/wadgeDEMs/auto_crs_fit_v2/wgs84_s0.4_3_clean_shifted.tif\")\n",
    "DEM_SHIFTED = Path(PROJECTDIR) / \"wgs84_s0.4_3_clean_shifted.tif\"\n",
    "from flovopy.dem.utils import shift_geotiff\n",
    "shift_geotiff(DEM_TIF_FOR_BMAP, DEM_SHIFTED, dx=0.0, dy=-16.0)"
   ]
  }
 ],
 "metadata": {
  "kernelspec": {
   "display_name": "flovopy_plus",
   "language": "python",
   "name": "python3"
  },
  "language_info": {
   "codemirror_mode": {
    "name": "ipython",
    "version": 3
   },
   "file_extension": ".py",
   "mimetype": "text/x-python",
   "name": "python",
   "nbconvert_exporter": "python",
   "pygments_lexer": "ipython3",
   "version": "3.12.11"
  }
 },
 "nbformat": 4,
 "nbformat_minor": 5
}
