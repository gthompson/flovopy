{
 "cells": [
  {
   "cell_type": "code",
   "execution_count": null,
   "id": "4db28c81",
   "metadata": {},
   "outputs": [],
   "source": [
    "from dataclasses import dataclass\n",
    "from pathlib import Path\n",
    "from typing import Dict, Any, List, Optional\n",
    "from pathlib import Path\n",
    "import numpy as np\n",
    "import pandas as pd\n",
    "from flovopy.asl.wrappers import run_single_event, find_event_files, build_asl_config, run_all_events\n",
    "from flovopy.processing.sam import VSAM \n",
    "\n",
    "# Base project directories\n",
    "PROJECTDIR = \"/Users/GlennThompson/Dropbox/BRIEFCASE/SSADenver\"\n",
    "LOCALPROJECTDIR = \"/Users/GlennThompson/work/PROJECTS/SSADenver_local\"\n",
    "\n",
    "# I/O\n",
    "INPUT_DIR = f\"{PROJECTDIR}/ASL_inputs/biggest_pdc_events\"\n",
    "OUTPUT_DIR = f\"{LOCALPROJECTDIR}/asl_notebooks\"\n",
    "INVENTORY_XML = f\"{PROJECTDIR}/MV.xml\"\n",
    "from obspy import read_inventory\n",
    "INV = read_inventory(INVENTORY_XML)\n",
    "print(f\"[INV] Networks: {len(INV)}  Stations: {sum(len(n) for n in INV)}  Channels: {sum(len(sta) for net in INV for sta in net)}\")\n",
    "\n",
    "GLOBAL_CACHE: Optional[str] = f\"{PROJECTDIR}/asl_global_cache\"\n",
    "GRIDFILE_DEFAULT = f\"{GLOBAL_CACHE}/final/Grid_2e0bce30.pkl\"\n",
    "\n",
    "from flovopy.asl.grid import Grid\n",
    "gridobj = Grid.load(GRIDFILE_DEFAULT)\n",
    "print(gridobj)\n",
    "gridobj.plot(show=True, force_all_nodes=True, scale=5.0)\n",
    "\n",
    "DEM_DEFAULT = Path(PROJECTDIR) / \"wgs84_s0.4_3_clean_shifted.tif\"\n",
    "\n",
    "# Montserrat default region (lon_min, lon_max, lat_min, lat_max)\n",
    "from flovopy.core.mvo import REGION_DEFAULT, dome_location\n",
    "print(REGION_DEFAULT)\n",
    "print(dome_location)"
   ]
  },
  {
   "cell_type": "markdown",
   "id": "92dad5c1",
   "metadata": {},
   "source": [
    "# Set up parameters that will be inherited to plot background topo maps, on top of which other maps will be created"
   ]
  },
  {
   "cell_type": "code",
   "execution_count": null,
   "id": "6be4a749",
   "metadata": {},
   "outputs": [],
   "source": [
    "topo_kw = {\n",
    "    \"inv\": INV,\n",
    "    \"add_labels\": True,\n",
    "    \"cmap\": \"gray\",\n",
    "    \"region\": REGION_DEFAULT,\n",
    "    \"dem_tif\": DEM_DEFAULT,  # basemap shading from your GeoTIFF - but does not actually seem to use this unless topo_color=True and cmap=None\n",
    "    \"title\": \"ASL\",\n",
    "    \"frame\": True,\n",
    "    \"dome_location\": dome_location,\n",
    "}"
   ]
  },
  {
   "cell_type": "markdown",
   "id": "219dbe28",
   "metadata": {},
   "source": [
    "# Set up ASL and physics parameters"
   ]
  },
  {
   "cell_type": "code",
   "execution_count": null,
   "id": "74cbf0b7",
   "metadata": {},
   "outputs": [],
   "source": [
    "# ASL parameters\n",
    "PEAKF = 8.0\n",
    "METRIC = \"VT\"\n",
    "WINDOW_SECONDS = 5\n",
    "NODE_SPACING_M = 50\n",
    "MIN_STATIONS = 5\n",
    "REFINE_SECTOR = False   # enable triangular dome-to-sea refinement\n",
    "\n",
    "# Physics / attenuation\n",
    "WAVE_KIND = \"surface\"   # surface waves\n",
    "DIST_MODE = \"3d\"        # include elevation\n",
    "SPEED = 1.5             # km/s\n",
    "Q = 100\n",
    "MISFIT_ENGINE = \"l2\""
   ]
  },
  {
   "cell_type": "markdown",
   "id": "043ba7ed",
   "metadata": {},
   "source": [
    "# Create a light configuration to drive the run\n",
    "Arguably all of these things should be set within the asl_config dictionary directly, rather than stored under asl['config'].sweep_or_cfg as they are in the next cell.\n",
    "This workaround was developed only because when running run_all_events(), we were constructing a sweep parameter, that only changed these particular variables."
   ]
  },
  {
   "cell_type": "code",
   "execution_count": null,
   "id": "01e76ece",
   "metadata": {},
   "outputs": [],
   "source": [
    "# --- Lightweight config object expected by run_single_event() (cell 2) ---\n",
    "@dataclass\n",
    "class LocalConfig:\n",
    "    grid_kind: str = \"regular\"     # 'regular' or 'streams'\n",
    "    wave_kind: str = \"surface\"     # 'surface' or 'body'\n",
    "    dist_mode: str = \"3d\"          # '2d' or '3d'\n",
    "    speed: float = 1.5             # km/s\n",
    "    Q: int = 100\n",
    "    misfit_engine: str = \"l2\"      # e.g. 'l2', 'huber'\n",
    "    label: str = \"nb_run\"\n",
    "\n",
    "    def tag(self) -> str:\n",
    "        return f\"{self.label}__G_{self.grid_kind}__W_{self.wave_kind}__D_{self.dist_mode}__V_{self.speed:g}__Q_{self.Q}__M_{self.misfit_engine}\"\n",
    "    \n",
    "cfg = LocalConfig(\n",
    "    wave_kind=WAVE_KIND,\n",
    "    dist_mode=DIST_MODE,\n",
    "    speed=SPEED,\n",
    "    Q=Q,\n",
    "    misfit_engine=MISFIT_ENGINE,\n",
    "    label=\"notebook_run\",\n",
    ")\n",
    "cfg.tag()\n",
    "print(cfg)"
   ]
  },
  {
   "cell_type": "markdown",
   "id": "d73015a4",
   "metadata": {},
   "source": [
    "# Build the asl_config dictionary, which will be inherited by downstream functions\n",
    "This describes the config above, the station metdata, the grid, etc."
   ]
  },
  {
   "cell_type": "code",
   "execution_count": null,
   "id": "1a888007",
   "metadata": {},
   "outputs": [],
   "source": [
    "asl_config = build_asl_config(\n",
    "    sweep_or_cfg=cfg,\n",
    "    inventory_xml=str(INVENTORY_XML),\n",
    "    output_base=str(OUTPUT_DIR),\n",
    "    peakf=PEAKF,\n",
    "    gridobj=gridobj,\n",
    "    sam_class=VSAM,\n",
    "    sam_metric=METRIC,\n",
    "    window_seconds=WINDOW_SECONDS,\n",
    "    min_stations=MIN_STATIONS,\n",
    "    global_cache=GLOBAL_CACHE,\n",
    "    debug=True,\n",
    ")\n",
    "\n",
    "print(asl_config)\n",
    "\n",
    "#  stash the whole asl_config?"
   ]
  },
  {
   "cell_type": "code",
   "execution_count": null,
   "id": "d3108dad",
   "metadata": {},
   "outputs": [],
   "source": [
    "MAX_EVENTS = 1\n",
    "\n",
    "input_dir = Path(INPUT_DIR)\n",
    "#event_files = list(find_event_files(str(input_dir)))\n",
    "event_files = list(find_event_files(Path(INPUT_DIR)))\n",
    "print(f\"Found {len(event_files)} event files.\")\n",
    "if MAX_EVENTS is not None:\n",
    "    event_files = event_files[:MAX_EVENTS]\n",
    "    print(f\"Limiting to {len(event_files)} files.\")\n",
    "#event_files[:5]\n",
    "for f in event_files:\n",
    "    print(f)"
   ]
  },
  {
   "cell_type": "markdown",
   "id": "abd2c7cd",
   "metadata": {},
   "source": [
    "# Run events from last cell, one event at a time, to check it works"
   ]
  },
  {
   "cell_type": "code",
   "execution_count": null,
   "id": "9ed3982f",
   "metadata": {},
   "outputs": [],
   "source": [
    "# --- Run ASL per event (cell 6) ---\n",
    "summaries: List[Dict[str, Any]] = []\n",
    "\n",
    "for i, ev in enumerate(event_files, 1):\n",
    "    print(f\"[{i}/{len(event_files)}] {ev}\")\n",
    "    result = run_single_event(\n",
    "        mseed_file=str(ev),\n",
    "        asl_config=asl_config,\n",
    "        refine_sector=REFINE_SECTOR,\n",
    "        station_gains_df=None,\n",
    "        topo_kw=topo_kw,\n",
    "        debug=True,\n",
    "    )\n",
    "    summaries.append(result)\n",
    "\n",
    "# Summarize\n",
    "df = pd.DataFrame(summaries)\n",
    "display(df)\n",
    "\n",
    "summary_csv = Path(OUTPUT_DIR) / f\"{cfg.tag()}__summary.csv\"\n",
    "df.to_csv(summary_csv, index=False)\n",
    "print(f\"Summary saved to: {summary_csv}\")\n",
    "\n",
    "if not df.empty:\n",
    "    n_ok = int((~df.get(\"error\").notna()).sum()) if \"error\" in df.columns else len(df)\n",
    "    print(f\"Success: {n_ok}/{len(df)}\")"
   ]
  },
  {
   "cell_type": "markdown",
   "id": "99a47df7",
   "metadata": {},
   "source": [
    "# Run all events efficiently"
   ]
  },
  {
   "cell_type": "code",
   "execution_count": null,
   "id": "552236da",
   "metadata": {},
   "outputs": [],
   "source": [
    "run_all_events(\n",
    "    input_dir=INPUT_DIR,\n",
    "    station_gains_df = None,\n",
    "    asl_config=asl_config,\n",
    "    refine_sector=REFINE_SECTOR,\n",
    "    topo_kw=topo_kw,\n",
    "    debug=True,\n",
    "    max_events=999999,\n",
    "    use_multiprocessing=True,\n",
    "    workers=4,\n",
    ")\n",
    " "
   ]
  }
 ],
 "metadata": {
  "kernelspec": {
   "display_name": "flovopy_plus",
   "language": "python",
   "name": "python3"
  },
  "language_info": {
   "codemirror_mode": {
    "name": "ipython",
    "version": 3
   },
   "file_extension": ".py",
   "mimetype": "text/x-python",
   "name": "python",
   "nbconvert_exporter": "python",
   "pygments_lexer": "ipython3",
   "version": "3.12.11"
  }
 },
 "nbformat": 4,
 "nbformat_minor": 5
}
